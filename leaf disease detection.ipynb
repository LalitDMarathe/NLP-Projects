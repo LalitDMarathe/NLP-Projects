{
 "cells": [
  {
   "cell_type": "markdown",
   "metadata": {},
   "source": [
    "# leaf disease detection"
   ]
  },
  {
   "cell_type": "code",
   "execution_count": null,
   "metadata": {
    "_cell_guid": "b1076dfc-b9ad-4769-8c92-a6c4dae69d19",
    "_uuid": "8f2839f25d086af736a60e9eeb907d3b93b6e0e5"
   },
   "outputs": [],
   "source": [
    "# This Python 3 environment comes with many helpful analytics libraries installed\n",
    "# It is defined by the kaggle/python Docker image: https://github.com/kaggle/docker-python\n",
    "# For example, here's several helpful packages to load\n",
    "\n",
    "import numpy as np # linear algebra\n",
    "import pandas as pd # data processing, CSV file I/O (e.g. pd.read_csv)\n",
    "\n",
    "# Input data files are available in the read-only \"../input/\" directory\n",
    "# For example, running this (by clicking run or pressing Shift+Enter) will list all files under the input directory\n",
    "\n",
    "import os\n",
    "for dirname, _, filenames in os.walk('/kaggle/input'):\n",
    "    for filename in filenames:\n",
    "        print(os.path.join(dirname, filename))\n",
    "\n",
    "# You can write up to 20GB to the current directory (/kaggle/working/) that gets preserved as output when you create a version using \"Save & Run All\" \n",
    "# You can also write temporary files to /kaggle/temp/, but they won't be saved outside of the current session"
   ]
  },
  {
   "cell_type": "markdown",
   "metadata": {},
   "source": [
    "# **IMPORTING LIBRARIES**"
   ]
  },
  {
   "cell_type": "code",
   "execution_count": null,
   "metadata": {
    "execution": {
     "iopub.execute_input": "2023-07-24T17:23:57.153235Z",
     "iopub.status.busy": "2023-07-24T17:23:57.151929Z",
     "iopub.status.idle": "2023-07-24T17:23:57.160811Z",
     "shell.execute_reply": "2023-07-24T17:23:57.15948Z",
     "shell.execute_reply.started": "2023-07-24T17:23:57.153155Z"
    }
   },
   "outputs": [],
   "source": [
    "import numpy as np\n",
    "import os\n",
    "from tensorflow.keras import models, layers\n",
    "from tensorflow.keras.preprocessing.image import ImageDataGenerator\n",
    "from tensorflow.keras.preprocessing import image\n",
    "from tensorflow.keras.preprocessing.image import img_to_array\n",
    "import tensorflow as tf\n",
    "import matplotlib.pyplot as plt\n",
    "\n",
    "import pathlib\n",
    "import pandas as pd\n",
    "import numpy as np\n",
    "import seaborn as sns\n",
    "import random\n",
    "\n",
    "import warnings\n",
    "warnings.filterwarnings(\"ignore\")\n"
   ]
  },
  {
   "cell_type": "markdown",
   "metadata": {},
   "source": [
    "# **SETTING DIRECTORY**"
   ]
  },
  {
   "cell_type": "code",
   "execution_count": null,
   "metadata": {
    "execution": {
     "iopub.execute_input": "2023-07-24T17:23:57.929687Z",
     "iopub.status.busy": "2023-07-24T17:23:57.929316Z",
     "iopub.status.idle": "2023-07-24T17:23:57.940454Z",
     "shell.execute_reply": "2023-07-24T17:23:57.939388Z",
     "shell.execute_reply.started": "2023-07-24T17:23:57.929656Z"
    }
   },
   "outputs": [],
   "source": [
    "base_dir='/kaggle/input/tomatoleaf/tomato'\n",
    "\n",
    "train_dir='/kaggle/input/tomatoleaf/tomato/train'\n",
    "print(\"train data:\", len(os.listdir(train_dir)))\n",
    "\n",
    "val_dir='/kaggle/input/tomatoleaf/tomato/val'\n",
    "print(\"val data:\", len(os.listdir(val_dir)))"
   ]
  },
  {
   "cell_type": "code",
   "execution_count": null,
   "metadata": {
    "execution": {
     "iopub.execute_input": "2023-07-24T17:23:58.367521Z",
     "iopub.status.busy": "2023-07-24T17:23:58.365623Z",
     "iopub.status.idle": "2023-07-24T17:23:58.376646Z",
     "shell.execute_reply": "2023-07-24T17:23:58.375466Z",
     "shell.execute_reply.started": "2023-07-24T17:23:58.367472Z"
    }
   },
   "outputs": [],
   "source": [
    "train_data_directory = pathlib.Path('/kaggle/input/tomatoleaf/tomato/train')\n",
    "class_names = sorted([item.name for item in train_data_directory.glob('*')])\n",
    "print(class_names)"
   ]
  },
  {
   "cell_type": "code",
   "execution_count": null,
   "metadata": {
    "execution": {
     "iopub.execute_input": "2023-07-24T17:23:58.816759Z",
     "iopub.status.busy": "2023-07-24T17:23:58.816392Z",
     "iopub.status.idle": "2023-07-24T17:23:58.825521Z",
     "shell.execute_reply": "2023-07-24T17:23:58.82447Z",
     "shell.execute_reply.started": "2023-07-24T17:23:58.816727Z"
    }
   },
   "outputs": [],
   "source": [
    "val_data_directory = pathlib.Path('/kaggle/input/tomatoleaf/tomato/val')\n",
    "class_names = sorted([item.name for item in train_data_directory.glob('*')])\n",
    "print(class_names)"
   ]
  },
  {
   "cell_type": "markdown",
   "metadata": {},
   "source": [
    "# **IMAGE DATA GENERATOR**"
   ]
  },
  {
   "cell_type": "code",
   "execution_count": null,
   "metadata": {
    "execution": {
     "iopub.execute_input": "2023-07-24T17:23:59.389501Z",
     "iopub.status.busy": "2023-07-24T17:23:59.388623Z",
     "iopub.status.idle": "2023-07-24T17:24:07.237495Z",
     "shell.execute_reply": "2023-07-24T17:24:07.236488Z",
     "shell.execute_reply.started": "2023-07-24T17:23:59.389451Z"
    }
   },
   "outputs": [],
   "source": [
    "train_data_gen=ImageDataGenerator(rescale = 1/255.)\n",
    "test_data_gen=ImageDataGenerator(rescale=1/255.)\n",
    "\n",
    "train_data = train_data_gen.flow_from_directory(train_dir, \n",
    "                                          target_size = (224, 224), \n",
    "                                          batch_size = 32,\n",
    "                                          class_mode = 'categorical')\n",
    "val_data = test_data_gen.flow_from_directory(val_dir, \n",
    "                                        target_size = (224, 224), \n",
    "                                        batch_size = 32,\n",
    "                                        class_mode = 'categorical')"
   ]
  },
  {
   "cell_type": "code",
   "execution_count": null,
   "metadata": {
    "execution": {
     "iopub.execute_input": "2023-07-24T17:24:07.240975Z",
     "iopub.status.busy": "2023-07-24T17:24:07.240679Z",
     "iopub.status.idle": "2023-07-24T17:24:07.346609Z",
     "shell.execute_reply": "2023-07-24T17:24:07.345518Z",
     "shell.execute_reply.started": "2023-07-24T17:24:07.240948Z"
    }
   },
   "outputs": [],
   "source": [
    "images, labels = train_data.next()\n",
    "len(images), len(labels), images[0].shape"
   ]
  },
  {
   "cell_type": "code",
   "execution_count": null,
   "metadata": {
    "execution": {
     "iopub.execute_input": "2023-07-24T17:24:07.348501Z",
     "iopub.status.busy": "2023-07-24T17:24:07.348118Z",
     "iopub.status.idle": "2023-07-24T17:24:07.480136Z",
     "shell.execute_reply": "2023-07-24T17:24:07.479147Z",
     "shell.execute_reply.started": "2023-07-24T17:24:07.348465Z"
    }
   },
   "outputs": [],
   "source": [
    "images1, labels1 = val_data.next()\n",
    "len(images1), len(labels1), images1[0].shape"
   ]
  },
  {
   "cell_type": "code",
   "execution_count": null,
   "metadata": {
    "execution": {
     "iopub.execute_input": "2023-07-24T17:24:07.48335Z",
     "iopub.status.busy": "2023-07-24T17:24:07.482692Z",
     "iopub.status.idle": "2023-07-24T17:24:07.490813Z",
     "shell.execute_reply": "2023-07-24T17:24:07.489773Z",
     "shell.execute_reply.started": "2023-07-24T17:24:07.48331Z"
    }
   },
   "outputs": [],
   "source": [
    "train_data, val_data"
   ]
  },
  {
   "cell_type": "markdown",
   "metadata": {},
   "source": [
    "# **CNN**"
   ]
  },
  {
   "cell_type": "code",
   "execution_count": null,
   "metadata": {
    "execution": {
     "iopub.execute_input": "2023-07-24T17:24:20.445655Z",
     "iopub.status.busy": "2023-07-24T17:24:20.445279Z",
     "iopub.status.idle": "2023-07-24T17:24:20.450752Z",
     "shell.execute_reply": "2023-07-24T17:24:20.44977Z",
     "shell.execute_reply.started": "2023-07-24T17:24:20.445625Z"
    }
   },
   "outputs": [],
   "source": [
    "from tensorflow.keras.models import Sequential\n",
    "from tensorflow.keras.layers import Conv2D\n",
    "from tensorflow.keras.layers import MaxPooling2D\n",
    "from tensorflow.keras.layers import Activation, Flatten, Dropout, Dense"
   ]
  },
  {
   "cell_type": "code",
   "execution_count": null,
   "metadata": {
    "execution": {
     "iopub.execute_input": "2023-07-24T17:24:21.336862Z",
     "iopub.status.busy": "2023-07-24T17:24:21.335701Z",
     "iopub.status.idle": "2023-07-24T17:24:21.472983Z",
     "shell.execute_reply": "2023-07-24T17:24:21.472048Z",
     "shell.execute_reply.started": "2023-07-24T17:24:21.336813Z"
    }
   },
   "outputs": [],
   "source": [
    "model = Sequential()\n",
    "\n",
    "model.add(Conv2D(128, (3, 3),input_shape=(224,224,3)))\n",
    "model.add(Activation(\"relu\"))\n",
    "\n",
    "model.add(MaxPooling2D(pool_size=(3, 3)))\n",
    "model.add(Dropout(0.25))\n",
    "model.add(Conv2D(128, (3, 3)))\n",
    "model.add(Activation(\"relu\"))\n",
    "\n",
    "model.add(Conv2D(128, (3, 3)))\n",
    "model.add(Activation(\"relu\"))\n",
    "\n",
    "model.add(MaxPooling2D(pool_size=(2, 2)))\n",
    "model.add(Dropout(0.25))\n",
    "model.add(Conv2D(128, (3, 3)))\n",
    "model.add(Activation(\"relu\"))\n",
    "\n",
    "model.add(Conv2D(128, (3, 3)))\n",
    "model.add(Activation(\"relu\"))\n",
    "\n",
    "model.add(MaxPooling2D(pool_size=(2, 2)))\n",
    "model.add(Dropout(0.25))\n",
    "model.add(Flatten())\n",
    "model.add(Dense(1029))\n",
    "model.add(Activation(\"relu\"))\n",
    "\n",
    "model.add(Dropout(0.5))\n",
    "model.add(Dense(10))\n",
    "model.add(Activation(\"softmax\"))"
   ]
  },
  {
   "cell_type": "code",
   "execution_count": null,
   "metadata": {
    "execution": {
     "iopub.execute_input": "2023-07-24T17:24:21.689558Z",
     "iopub.status.busy": "2023-07-24T17:24:21.689194Z",
     "iopub.status.idle": "2023-07-24T17:24:21.739807Z",
     "shell.execute_reply": "2023-07-24T17:24:21.739099Z",
     "shell.execute_reply.started": "2023-07-24T17:24:21.689527Z"
    }
   },
   "outputs": [],
   "source": [
    "model.summary()"
   ]
  },
  {
   "cell_type": "markdown",
   "metadata": {},
   "source": [
    "# **MODEL TRAINING**"
   ]
  },
  {
   "cell_type": "code",
   "execution_count": null,
   "metadata": {
    "execution": {
     "iopub.execute_input": "2023-07-24T17:24:22.102577Z",
     "iopub.status.busy": "2023-07-24T17:24:22.10218Z",
     "iopub.status.idle": "2023-07-24T17:24:22.116443Z",
     "shell.execute_reply": "2023-07-24T17:24:22.115282Z",
     "shell.execute_reply.started": "2023-07-24T17:24:22.102547Z"
    }
   },
   "outputs": [],
   "source": [
    "model.compile(optimizer='adam',loss='categorical_crossentropy',metrics=['accuracy'])"
   ]
  },
  {
   "cell_type": "code",
   "execution_count": null,
   "metadata": {
    "execution": {
     "iopub.execute_input": "2023-07-24T17:24:22.518424Z",
     "iopub.status.busy": "2023-07-24T17:24:22.518048Z",
     "iopub.status.idle": "2023-07-24T17:43:13.662593Z",
     "shell.execute_reply": "2023-07-24T17:43:13.661516Z",
     "shell.execute_reply.started": "2023-07-24T17:24:22.518392Z"
    }
   },
   "outputs": [],
   "source": [
    "history=model.fit(train_data,validation_data=val_data,batch_size=32,verbose=1,epochs=15)"
   ]
  },
  {
   "cell_type": "markdown",
   "metadata": {},
   "source": [
    "# **EVALUATE**"
   ]
  },
  {
   "cell_type": "code",
   "execution_count": null,
   "metadata": {
    "execution": {
     "iopub.execute_input": "2023-07-24T17:44:11.021957Z",
     "iopub.status.busy": "2023-07-24T17:44:11.021543Z",
     "iopub.status.idle": "2023-07-24T17:44:42.103815Z",
     "shell.execute_reply": "2023-07-24T17:44:42.102814Z",
     "shell.execute_reply.started": "2023-07-24T17:44:11.021924Z"
    }
   },
   "outputs": [],
   "source": [
    "model.evaluate(train_data, verbose=1)"
   ]
  },
  {
   "cell_type": "markdown",
   "metadata": {},
   "source": [
    "# **MODEL SAVING**"
   ]
  },
  {
   "cell_type": "code",
   "execution_count": null,
   "metadata": {
    "execution": {
     "iopub.execute_input": "2023-07-24T17:44:42.107594Z",
     "iopub.status.busy": "2023-07-24T17:44:42.107311Z",
     "iopub.status.idle": "2023-07-24T17:44:43.507412Z",
     "shell.execute_reply": "2023-07-24T17:44:43.506002Z",
     "shell.execute_reply.started": "2023-07-24T17:44:42.107569Z"
    }
   },
   "outputs": [],
   "source": [
    "model.save_weights(\"model_weights.hdf5\")\n",
    "model.save(\"tomato.hdf5\")"
   ]
  },
  {
   "cell_type": "markdown",
   "metadata": {},
   "source": [
    "# **MODEL TRAINING**"
   ]
  },
  {
   "cell_type": "code",
   "execution_count": null,
   "metadata": {
    "execution": {
     "iopub.execute_input": "2023-07-24T17:44:43.513636Z",
     "iopub.status.busy": "2023-07-24T17:44:43.513347Z",
     "iopub.status.idle": "2023-07-24T17:44:44.157733Z",
     "shell.execute_reply": "2023-07-24T17:44:44.15675Z",
     "shell.execute_reply.started": "2023-07-24T17:44:43.51361Z"
    }
   },
   "outputs": [],
   "source": [
    "import matplotlib.pyplot as plt\n",
    "plt.plot(history.history['accuracy'])\n",
    "plt.plot(history.history['val_accuracy'])\n",
    "plt.title('model accuracy')\n",
    "plt.ylabel('accuracy')\n",
    "plt.xlabel('epoch')\n",
    "plt.legend(['Train', 'Validation'], loc='upper left')\n",
    "plt.show()\n",
    "\n",
    "plt.plot(history.history['loss'])\n",
    "plt.plot(history.history['val_loss'])\n",
    "plt.title('model loss')\n",
    "plt.ylabel('loss')\n",
    "plt.xlabel('epoch')\n",
    "plt.legend(['Train', 'Validation'], loc='upper left')\n",
    "plt.show()"
   ]
  },
  {
   "cell_type": "markdown",
   "metadata": {},
   "source": [
    "# **LOADING THE MODEL**"
   ]
  },
  {
   "cell_type": "code",
   "execution_count": null,
   "metadata": {
    "execution": {
     "iopub.execute_input": "2023-07-24T17:44:44.161482Z",
     "iopub.status.busy": "2023-07-24T17:44:44.160402Z",
     "iopub.status.idle": "2023-07-24T17:44:45.919527Z",
     "shell.execute_reply": "2023-07-24T17:44:45.918388Z",
     "shell.execute_reply.started": "2023-07-24T17:44:44.16144Z"
    }
   },
   "outputs": [],
   "source": [
    "loaded_model = tf.keras.models.load_model('/kaggle/working/tomato.hdf5')"
   ]
  },
  {
   "cell_type": "markdown",
   "metadata": {},
   "source": [
    "# **IMAGE PREPROCESSING**"
   ]
  },
  {
   "cell_type": "code",
   "execution_count": null,
   "metadata": {
    "execution": {
     "iopub.execute_input": "2023-07-24T17:44:45.922929Z",
     "iopub.status.busy": "2023-07-24T17:44:45.922123Z",
     "iopub.status.idle": "2023-07-24T17:44:45.929832Z",
     "shell.execute_reply": "2023-07-24T17:44:45.928853Z",
     "shell.execute_reply.started": "2023-07-24T17:44:45.922888Z"
    }
   },
   "outputs": [],
   "source": [
    "def preprocess_images(path):\n",
    "    img = image.load_img(path, target_size=(224, 224))\n",
    "\n",
    "    img_array = image.img_to_array(img)\n",
    "\n",
    "    img_array = np.expand_dims(img_array, axis=0)\n",
    "\n",
    "    img_preprocessed = img_array / 255.0\n",
    "    \n",
    "    return img_preprocessed"
   ]
  },
  {
   "cell_type": "markdown",
   "metadata": {},
   "source": [
    "# **IMAGE PREDICTION**"
   ]
  },
  {
   "cell_type": "code",
   "execution_count": null,
   "metadata": {
    "execution": {
     "iopub.execute_input": "2023-07-24T17:46:04.784135Z",
     "iopub.status.busy": "2023-07-24T17:46:04.783767Z",
     "iopub.status.idle": "2023-07-24T17:46:05.317489Z",
     "shell.execute_reply": "2023-07-24T17:46:05.316239Z",
     "shell.execute_reply.started": "2023-07-24T17:46:04.784104Z"
    }
   },
   "outputs": [],
   "source": [
    "import cv2\n",
    "t=cv2.imread('/kaggle/input/tomatoleaf/tomato/train/Tomato___Tomato_Yellow_Leaf_Curl_Virus/cfdbbfba-3cdc-4aa2-9c43-cddeff7f6d73___YLCV_NREC 0309.JPG')\n",
    "plt.imshow(t)\n",
    "img_path = \"/kaggle/input/tomatoleaf/tomato/train/Tomato___Tomato_Yellow_Leaf_Curl_Virus/cfdbbfba-3cdc-4aa2-9c43-cddeff7f6d73___YLCV_NREC 0309.JPG\"\n",
    "img = preprocess_images(img_path)\n",
    "prediction = loaded_model.predict(img)\n",
    "\n",
    "predicted_class_index = np.argmax(prediction)\n",
    "\n",
    "class_labels = [\"Tomato___Bacterial_spot\",\"Tomato___Early_blight\",\"Tomato___Late_blight\",\"Tomato___Leaf_Mold\"\n",
    "                ,\"Tomato___Septoria_leaf_spot\",\"Tomato___Spider_mites Two-spotted_spider_mite\",\n",
    "                \"Tomato___Target_Spot\",\"Tomato___Tomato_Yellow_Leaf_Curl_Virus\",\"Tomato___Tomato_mosaic_virus\",\n",
    "                \"Tomato___healthy\"] \n",
    "predicted_class_label = class_labels[predicted_class_index]\n",
    "\n",
    "print(\"Predicted class    :   \", predicted_class_label)"
   ]
  },
  {
   "cell_type": "code",
   "execution_count": 1,
   "metadata": {},
   "outputs": [
    {
     "ename": "SyntaxError",
     "evalue": "invalid syntax (Temp/ipykernel_6792/3892445550.py, line 1)",
     "output_type": "error",
     "traceback": [
      "\u001b[1;36m  File \u001b[1;32m\"C:\\Users\\win8.1\\AppData\\Local\\Temp/ipykernel_6792/3892445550.py\"\u001b[1;36m, line \u001b[1;32m1\u001b[0m\n\u001b[1;33m    Thank you...!\u001b[0m\n\u001b[1;37m          ^\u001b[0m\n\u001b[1;31mSyntaxError\u001b[0m\u001b[1;31m:\u001b[0m invalid syntax\n"
     ]
    }
   ],
   "source": [
    "Thank you...!"
   ]
  },
  {
   "cell_type": "code",
   "execution_count": null,
   "metadata": {},
   "outputs": [],
   "source": []
  }
 ],
 "metadata": {
  "kernelspec": {
   "display_name": "Python 3 (ipykernel)",
   "language": "python",
   "name": "python3"
  },
  "language_info": {
   "codemirror_mode": {
    "name": "ipython",
    "version": 3
   },
   "file_extension": ".py",
   "mimetype": "text/x-python",
   "name": "python",
   "nbconvert_exporter": "python",
   "pygments_lexer": "ipython3",
   "version": "3.9.7"
  }
 },
 "nbformat": 4,
 "nbformat_minor": 4
}
