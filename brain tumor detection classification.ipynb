{
 "cells": [
  {
   "cell_type": "markdown",
   "metadata": {},
   "source": [
    "# What are Brain Tumors?"
   ]
  },
  {
   "cell_type": "markdown",
   "metadata": {},
   "source": [
    "A brain tumor is a mass or growth of abnormal cells in your brain.\n",
    "\n",
    "Many different types of brain tumors exist. Some brain tumors are noncancerous (benign), and some brain tumors are cancerous (malignant). Brain tumors can begin in your brain (primary brain tumors), or cancer can begin in other parts of your body and spread to your brain as secondary (metastatic) brain tumors."
   ]
  },
  {
   "cell_type": "markdown",
   "metadata": {},
   "source": [
    "<div>\n",
    "<img src=\"https://www.mayoclinic.org/-/media/kcms/gbs/patient-consumer/images/2014/10/30/15/17/mcdc7_brain_cancer-8col.jpg\" alt=\"brain_tumor_image\" style=\"width: 300px;\"/>\n",
    "</div>"
   ]
  },
  {
   "cell_type": "markdown",
   "metadata": {},
   "source": [
    "## In this Notebook we speak about 4 types of Brain Tumors"
   ]
  },
  {
   "cell_type": "markdown",
   "metadata": {},
   "source": [
    "### 1. Glioma\n",
    "\n",
    "Glioma is a type of tumor that occurs in the brain and spinal cord. Gliomas begin in the gluey supportive cells (glial cells) that surround nerve cells and help them function. Three types of glial cells can produce tumors. A glioma can affect your brain function and be life-threatening depending on its location and rate of growth.\n",
    "Gliomas are one of the most common types of primary brain tumors."
   ]
  },
  {
   "cell_type": "markdown",
   "metadata": {},
   "source": [
    "<div>\n",
    "    <img src=\"https://assets.cureus.com/uploads/figure/file/164887/lightbox_0a114f70280b11eb8f411b16d840121c-final-2.png\" style=\"width:600px;\"/>\n",
    "</div>"
   ]
  },
  {
   "cell_type": "markdown",
   "metadata": {},
   "source": [
    "### 2. Meningioma\n",
    "\n",
    "A meningioma is a tumor that arises from the meninges — the membranes that surround the brain and spinal cord. Although not technically a brain tumor, it is included in this category because it may compress or squeeze the adjacent brain, nerves and vessels. Meningioma is the most common type of tumor that forms in the head.\n",
    "Most meningiomas grow very slowly, often over many years without causing symptoms. But sometimes, their effects on nearby brain tissue, nerves or vessels may cause serious disability."
   ]
  },
  {
   "cell_type": "markdown",
   "metadata": {},
   "source": [
    "<div>\n",
    "    <img src=\"https://encrypted-tbn0.gstatic.com/images?q=tbn:ANd9GcTjOeFTen8qxZfMRwXKXQlwUN0TWkMPMvzfig&usqp=CAU\" style=\"width:700px;\">\n",
    "</div>"
   ]
  },
  {
   "cell_type": "markdown",
   "metadata": {},
   "source": [
    "### 3. Pituitary Tumors (Adenoma)\n",
    "\n",
    "Pituitary tumors are abnormal growths that develop in your pituitary gland. Some pituitary tumors result in too much of the hormones that regulate important functions of your body. Some pituitary tumors can cause your pituitary gland to produce lower levels of hormones. Most pituitary tumors are noncancerous (benign) growths (adenomas). Adenomas remain in your pituitary gland or surrounding tissues and don't spread to other parts of your body."
   ]
  },
  {
   "cell_type": "markdown",
   "metadata": {},
   "source": [
    "<div>\n",
    "    <img src=\"https://assets.cureus.com/uploads/figure/file/71851/lightbox_0e62470096cb11e989a2d7e4904c7be4-Figure-2a.png\" style=\"width:500px;\"/>\n",
    "</div>"
   ]
  },
  {
   "cell_type": "code",
   "execution_count": null,
   "metadata": {
    "_cell_guid": "b1076dfc-b9ad-4769-8c92-a6c4dae69d19",
    "_uuid": "8f2839f25d086af736a60e9eeb907d3b93b6e0e5",
    "execution": {
     "iopub.execute_input": "2022-06-21T17:17:42.213277Z",
     "iopub.status.busy": "2022-06-21T17:17:42.212872Z",
     "iopub.status.idle": "2022-06-21T17:17:42.240142Z",
     "shell.execute_reply": "2022-06-21T17:17:42.239393Z",
     "shell.execute_reply.started": "2022-06-21T17:17:42.213196Z"
    }
   },
   "outputs": [],
   "source": [
    "# This Python 3 environment comes with many helpful analytics libraries installed\n",
    "# It is defined by the kaggle/python Docker image: https://github.com/kaggle/docker-python\n",
    "# For example, here's several helpful packages to load\n",
    "\n",
    "# import numpy as np # linear algebra\n",
    "# import pandas as pd # data processing, CSV file I/O (e.g. pd.read_csv)\n",
    "\n",
    "# Input data files are available in the read-only \"../input/\" directory\n",
    "# For example, running this (by clicking run or pressing Shift+Enter) will list all files under the input directory\n",
    "\n",
    "import os\n",
    "# for dirname, _, filenames in os.walk('/kaggle/input'):\n",
    "#     for filename in filenames:\n",
    "#         print(os.path.join(dirname, filename))\n",
    "\n",
    "# You can write up to 20GB to the current directory (/kaggle/working/) that gets preserved as output when you create a version using \"Save & Run All\" \n",
    "# You can also write temporary files to /kaggle/temp/, but they won't be saved outside of the current session"
   ]
  },
  {
   "cell_type": "markdown",
   "metadata": {},
   "source": [
    "## Importing the Libraries"
   ]
  },
  {
   "cell_type": "code",
   "execution_count": null,
   "metadata": {
    "execution": {
     "iopub.execute_input": "2022-06-21T17:17:42.243259Z",
     "iopub.status.busy": "2022-06-21T17:17:42.242984Z",
     "iopub.status.idle": "2022-06-21T17:17:47.581371Z",
     "shell.execute_reply": "2022-06-21T17:17:47.580555Z",
     "shell.execute_reply.started": "2022-06-21T17:17:42.243228Z"
    }
   },
   "outputs": [],
   "source": [
    "# libraries that are generally imported for any deep learning model\n",
    "import numpy as np\n",
    "import pandas as pd\n",
    "import matplotlib.pyplot as plt\n",
    "import tensorflow as tf\n",
    "\n",
    "# libraries need to prepare the data\n",
    "from tensorflow.keras.preprocessing import image\n",
    "from tensorflow.keras.preprocessing.image import ImageDataGenerator\n",
    "from tensorflow.keras.utils import load_img\n",
    "from tensorflow.keras.utils import img_to_array\n",
    "\n",
    "# libraries required to build the model\n",
    "from tensorflow.keras.models import Sequential\n",
    "from tensorflow.keras.layers import Conv2D\n",
    "from tensorflow.keras.layers import MaxPool2D\n",
    "from tensorflow.keras.layers import Flatten\n",
    "from tensorflow.keras.layers import Dense\n",
    "from tensorflow.keras.layers import Dropout\n",
    "\n",
    "# libraries for activation functions required\n",
    "from tensorflow.keras.activations import relu\n",
    "from tensorflow.keras.activations import softmax\n",
    "\n",
    "# weight initializer libraries\n",
    "from tensorflow.keras.initializers import HeNormal\n",
    "from tensorflow.keras.initializers import HeUniform\n",
    "\n",
    "# optimizer library\n",
    "from tensorflow.keras.optimizers import Adam\n",
    "\n",
    "# callback library\n",
    "from tensorflow.keras.callbacks import EarlyStopping"
   ]
  },
  {
   "cell_type": "code",
   "execution_count": null,
   "metadata": {
    "execution": {
     "iopub.execute_input": "2022-06-21T17:17:47.583741Z",
     "iopub.status.busy": "2022-06-21T17:17:47.583082Z",
     "iopub.status.idle": "2022-06-21T17:17:47.591351Z",
     "shell.execute_reply": "2022-06-21T17:17:47.590111Z",
     "shell.execute_reply.started": "2022-06-21T17:17:47.583704Z"
    }
   },
   "outputs": [],
   "source": [
    "# setting the random seed to generalize the output\n",
    "# the seed value is used to generate the random number generator. \n",
    "# And, every time you use the same seed value, you will get the same random values.\n",
    "\n",
    "# setting random seed in numpy\n",
    "from numpy.random import seed\n",
    "seed(1)\n",
    "\n",
    "# setting random seed in tensorflow\n",
    "tf.random.set_seed(2) "
   ]
  },
  {
   "cell_type": "markdown",
   "metadata": {},
   "source": [
    "## Preparing the Dataset"
   ]
  },
  {
   "cell_type": "markdown",
   "metadata": {},
   "source": [
    "### Preparing Training Images"
   ]
  },
  {
   "cell_type": "code",
   "execution_count": null,
   "metadata": {
    "execution": {
     "iopub.execute_input": "2022-06-21T17:17:47.593557Z",
     "iopub.status.busy": "2022-06-21T17:17:47.592999Z",
     "iopub.status.idle": "2022-06-21T17:17:47.604885Z",
     "shell.execute_reply": "2022-06-21T17:17:47.604073Z",
     "shell.execute_reply.started": "2022-06-21T17:17:47.593522Z"
    }
   },
   "outputs": [],
   "source": [
    "# creating an object of the ImageDataGenerator class\n",
    "# the ImageDatagenerator class helps in image augmentation by allowing us to apply different transforms to our images\n",
    "# for example: rescale - normaizes the value of each colour channel(R or G or B) of each pixel between 0 and 1\n",
    "#              shear range - shears images by a certain amount ( value accepted is between 0 and 1)\n",
    "#              rotation range - rotates images by a certain amount\n",
    "#              zoom range - allows us to zoom images\n",
    "#              horizontal and vertical flip - flips images by in directions named to produce input randomness\n",
    "train_data_gen = ImageDataGenerator(rescale=1./255,\n",
    "                                    shear_range=0.2,\n",
    "                                    rotation_range=2,\n",
    "                                    zoom_range=0.2,\n",
    "                                    horizontal_flip=True,\n",
    "                                    vertical_flip=True)"
   ]
  },
  {
   "cell_type": "code",
   "execution_count": null,
   "metadata": {
    "execution": {
     "iopub.execute_input": "2022-06-21T17:17:47.608333Z",
     "iopub.status.busy": "2022-06-21T17:17:47.607362Z",
     "iopub.status.idle": "2022-06-21T17:17:51.245672Z",
     "shell.execute_reply": "2022-06-21T17:17:51.24483Z",
     "shell.execute_reply.started": "2022-06-21T17:17:47.608293Z"
    }
   },
   "outputs": [],
   "source": [
    "# we now use the flow_from_directory function from the ImageDataGenerator class\n",
    "# this function allows us to import our dataset consisting of images from a directory/folder\n",
    "# target_size - resizes the images according to the input shape of the model\n",
    "# class mode - using categorical class mode since we have a multiclass classification\n",
    "# batch_size - gives batches of images as input to the model instead of single images\n",
    "training_set = train_data_gen.flow_from_directory(directory=\"../input/brain-tumor-mri-dataset/Training\",\n",
    "                                                  target_size=(224,224),\n",
    "                                                  class_mode='categorical',\n",
    "                                                  batch_size=32)"
   ]
  },
  {
   "cell_type": "markdown",
   "metadata": {},
   "source": [
    "### Preparing Validation Images"
   ]
  },
  {
   "cell_type": "code",
   "execution_count": null,
   "metadata": {
    "execution": {
     "iopub.execute_input": "2022-06-21T17:17:51.247607Z",
     "iopub.status.busy": "2022-06-21T17:17:51.247043Z",
     "iopub.status.idle": "2022-06-21T17:17:51.253142Z",
     "shell.execute_reply": "2022-06-21T17:17:51.252345Z",
     "shell.execute_reply.started": "2022-06-21T17:17:51.247553Z"
    }
   },
   "outputs": [],
   "source": [
    "# creating another object of ImageDataGenerator class\n",
    "# here we do not apply any transformations because we want our validation data to be absolutely new to our model ( i.e. unprepared) \n",
    "# we only rescale the pixel values to normalize them between 0 and 1\n",
    "validation_data_gen = ImageDataGenerator(rescale=1./255)"
   ]
  },
  {
   "cell_type": "code",
   "execution_count": null,
   "metadata": {
    "execution": {
     "iopub.execute_input": "2022-06-21T17:17:51.255209Z",
     "iopub.status.busy": "2022-06-21T17:17:51.254614Z",
     "iopub.status.idle": "2022-06-21T17:17:51.468461Z",
     "shell.execute_reply": "2022-06-21T17:17:51.467722Z",
     "shell.execute_reply.started": "2022-06-21T17:17:51.255173Z"
    }
   },
   "outputs": [],
   "source": [
    "# importing our validation set images with the same image size and batch size\n",
    "validation_set = validation_data_gen.flow_from_directory(directory=\"../input/brain-tumor-mri-dataset/Testing\",\n",
    "                                                        target_size=(224,224),\n",
    "                                                        class_mode='categorical',\n",
    "                                                        batch_size=32)"
   ]
  },
  {
   "cell_type": "markdown",
   "metadata": {},
   "source": [
    "### How the dataset looks ?"
   ]
  },
  {
   "cell_type": "code",
   "execution_count": null,
   "metadata": {
    "execution": {
     "iopub.execute_input": "2022-06-21T17:17:51.47015Z",
     "iopub.status.busy": "2022-06-21T17:17:51.469806Z",
     "iopub.status.idle": "2022-06-21T17:17:52.072956Z",
     "shell.execute_reply": "2022-06-21T17:17:52.072081Z",
     "shell.execute_reply.started": "2022-06-21T17:17:51.470117Z"
    }
   },
   "outputs": [],
   "source": [
    "# next function iterates over the training set and separates the images and their labels \n",
    "imgs, labels = next(training_set)"
   ]
  },
  {
   "cell_type": "code",
   "execution_count": null,
   "metadata": {
    "execution": {
     "iopub.execute_input": "2022-06-21T17:17:52.074566Z",
     "iopub.status.busy": "2022-06-21T17:17:52.074162Z",
     "iopub.status.idle": "2022-06-21T17:17:52.081403Z",
     "shell.execute_reply": "2022-06-21T17:17:52.080442Z",
     "shell.execute_reply.started": "2022-06-21T17:17:52.074531Z"
    }
   },
   "outputs": [],
   "source": [
    "#we define a function that prints the first 10 images from the training set \n",
    "def plotImages(images_arr):\n",
    "    fig, axes = plt.subplots(1, 10, figsize=(20,20))\n",
    "    axes = axes.flatten()\n",
    "    for img, ax in zip(images_arr, axes):\n",
    "        ax.imshow(img)\n",
    "        ax.axis('off')\n",
    "    plt.tight_layout()\n",
    "    plt.show()"
   ]
  },
  {
   "cell_type": "code",
   "execution_count": null,
   "metadata": {
    "execution": {
     "iopub.execute_input": "2022-06-21T17:17:52.083681Z",
     "iopub.status.busy": "2022-06-21T17:17:52.082728Z",
     "iopub.status.idle": "2022-06-21T17:17:52.822557Z",
     "shell.execute_reply": "2022-06-21T17:17:52.821672Z",
     "shell.execute_reply.started": "2022-06-21T17:17:52.083627Z"
    }
   },
   "outputs": [],
   "source": [
    "# calling our function to print the first 10 images\n",
    "plotImages(imgs)\n",
    "# printing all the labels from the first batch of 32 images\n",
    "print(labels)"
   ]
  },
  {
   "cell_type": "markdown",
   "metadata": {},
   "source": [
    "## Building a Convolutional Neural Network"
   ]
  },
  {
   "cell_type": "code",
   "execution_count": null,
   "metadata": {
    "execution": {
     "iopub.execute_input": "2022-06-21T17:17:52.826327Z",
     "iopub.status.busy": "2022-06-21T17:17:52.82531Z",
     "iopub.status.idle": "2022-06-21T17:17:55.709952Z",
     "shell.execute_reply": "2022-06-21T17:17:55.708956Z",
     "shell.execute_reply.started": "2022-06-21T17:17:52.826288Z"
    }
   },
   "outputs": [],
   "source": [
    "# the Sequential() helps make a sequential model. \n",
    "# A sequential model is a model which consists of a sequence of layers.\n",
    "model = Sequential()"
   ]
  },
  {
   "cell_type": "markdown",
   "metadata": {},
   "source": [
    "### Adding First Cluster of 2 Convolution and 1 Max Pooling Layer"
   ]
  },
  {
   "cell_type": "code",
   "execution_count": null,
   "metadata": {
    "execution": {
     "iopub.execute_input": "2022-06-21T17:17:55.711919Z",
     "iopub.status.busy": "2022-06-21T17:17:55.711374Z",
     "iopub.status.idle": "2022-06-21T17:17:55.76981Z",
     "shell.execute_reply": "2022-06-21T17:17:55.768807Z",
     "shell.execute_reply.started": "2022-06-21T17:17:55.71188Z"
    }
   },
   "outputs": [],
   "source": [
    "# adding a Conv2D layer\n",
    "# Conv2D is a function for the convolutional layer \n",
    "# In a convolutional layer, multiple filters are applied on each image to highlight key features from the particular image\n",
    "# after the applying the filters the image is called a feature map\n",
    "# here we apply 32 filters to each image and our filters are 3x3 matrices which is the kernel_size\n",
    "# we give our activation function as ReLU. This is one the best activation functions because it helps prevent Vanishing Gradient Problem during the backpropagation stage\n",
    "model.add(Conv2D(filters=32,\n",
    "                 kernel_size=3,\n",
    "                 activation=relu,\n",
    "                 input_shape=[224, 224, 3]))"
   ]
  },
  {
   "cell_type": "code",
   "execution_count": null,
   "metadata": {
    "execution": {
     "iopub.execute_input": "2022-06-21T17:17:55.774273Z",
     "iopub.status.busy": "2022-06-21T17:17:55.773809Z",
     "iopub.status.idle": "2022-06-21T17:17:55.793264Z",
     "shell.execute_reply": "2022-06-21T17:17:55.792623Z",
     "shell.execute_reply.started": "2022-06-21T17:17:55.774227Z"
    }
   },
   "outputs": [],
   "source": [
    "# Adding a secong convolutional layer\n",
    "model.add(Conv2D(filters=32,\n",
    "                 kernel_size=3,\n",
    "                 activation=relu))"
   ]
  },
  {
   "cell_type": "code",
   "execution_count": null,
   "metadata": {
    "execution": {
     "iopub.execute_input": "2022-06-21T17:17:55.799598Z",
     "iopub.status.busy": "2022-06-21T17:17:55.797424Z",
     "iopub.status.idle": "2022-06-21T17:17:55.811452Z",
     "shell.execute_reply": "2022-06-21T17:17:55.810539Z",
     "shell.execute_reply.started": "2022-06-21T17:17:55.799556Z"
    }
   },
   "outputs": [],
   "source": [
    "# Adding the first MaxPool2D layer\n",
    "# MaxPool2D is a function for the max pooling layer\n",
    "# In the max pooling layer we apply a kernel to the feature maps which preserves only the highlighted portions on the images\n",
    "# there are other types of pooling like minPooling, avgPooling, etc.\n",
    "# here we use pool_size 2 which decides the size of the matrix(area) from which we select the highest value(max pooling)\n",
    "# strides - this is the number of places the kernel will move after taking max from one area ( the kernel moves from left to right)\n",
    "# padding - while moving if our kernel faces empty places within it when at one edge of the feature map, then it uses padding by applying zero values to those places\n",
    "model.add(MaxPool2D(pool_size=2,\n",
    "                    strides=2,\n",
    "                    padding='valid'))"
   ]
  },
  {
   "cell_type": "markdown",
   "metadata": {},
   "source": [
    "### Adding 2nd Cluster of 2 Convolution & 1 Max Pooling Layer"
   ]
  },
  {
   "cell_type": "code",
   "execution_count": null,
   "metadata": {
    "execution": {
     "iopub.execute_input": "2022-06-21T17:17:55.818301Z",
     "iopub.status.busy": "2022-06-21T17:17:55.816043Z",
     "iopub.status.idle": "2022-06-21T17:17:55.8348Z",
     "shell.execute_reply": "2022-06-21T17:17:55.834149Z",
     "shell.execute_reply.started": "2022-06-21T17:17:55.818264Z"
    }
   },
   "outputs": [],
   "source": [
    "# adding another Conv2D layer\n",
    "model.add(Conv2D(filters=32,\n",
    "                 kernel_size=3,\n",
    "                 activation=relu))"
   ]
  },
  {
   "cell_type": "code",
   "execution_count": null,
   "metadata": {
    "execution": {
     "iopub.execute_input": "2022-06-21T17:17:55.840705Z",
     "iopub.status.busy": "2022-06-21T17:17:55.838542Z",
     "iopub.status.idle": "2022-06-21T17:17:55.857145Z",
     "shell.execute_reply": "2022-06-21T17:17:55.856411Z",
     "shell.execute_reply.started": "2022-06-21T17:17:55.84067Z"
    }
   },
   "outputs": [],
   "source": [
    "# adding a fourth Conv2D layer\n",
    "model.add(Conv2D(filters=64,\n",
    "                 kernel_size=3,\n",
    "                 activation=relu))"
   ]
  },
  {
   "cell_type": "code",
   "execution_count": null,
   "metadata": {
    "execution": {
     "iopub.execute_input": "2022-06-21T17:17:55.862761Z",
     "iopub.status.busy": "2022-06-21T17:17:55.860803Z",
     "iopub.status.idle": "2022-06-21T17:17:55.873216Z",
     "shell.execute_reply": "2022-06-21T17:17:55.87229Z",
     "shell.execute_reply.started": "2022-06-21T17:17:55.862727Z"
    }
   },
   "outputs": [],
   "source": [
    "# adding a second MaxPool2D layer \n",
    "model.add(MaxPool2D(pool_size=2,\n",
    "                    strides=2,\n",
    "                    padding='valid'))"
   ]
  },
  {
   "cell_type": "markdown",
   "metadata": {},
   "source": [
    "### Flattening the Output of Convolutional Layers"
   ]
  },
  {
   "cell_type": "code",
   "execution_count": null,
   "metadata": {
    "execution": {
     "iopub.execute_input": "2022-06-21T17:17:55.879678Z",
     "iopub.status.busy": "2022-06-21T17:17:55.877581Z",
     "iopub.status.idle": "2022-06-21T17:17:55.890446Z",
     "shell.execute_reply": "2022-06-21T17:17:55.889641Z",
     "shell.execute_reply.started": "2022-06-21T17:17:55.879639Z"
    }
   },
   "outputs": [],
   "source": [
    "# adding a Flatten layer\n",
    "# the Flatten() layer is used to flatten the output from the last layer to prepare it for input to the upcoming fully connected layers\n",
    "model.add(Flatten())"
   ]
  },
  {
   "cell_type": "markdown",
   "metadata": {},
   "source": [
    "### Adding 2 Fully Connected Layers with Dropout Layer in Between"
   ]
  },
  {
   "cell_type": "code",
   "execution_count": null,
   "metadata": {
    "execution": {
     "iopub.execute_input": "2022-06-21T17:17:55.896533Z",
     "iopub.status.busy": "2022-06-21T17:17:55.894383Z",
     "iopub.status.idle": "2022-06-21T17:17:55.914412Z",
     "shell.execute_reply": "2022-06-21T17:17:55.913739Z",
     "shell.execute_reply.started": "2022-06-21T17:17:55.896492Z"
    }
   },
   "outputs": [],
   "source": [
    "# adding the first Dense layer\n",
    "# this is our first fully connected layer which allows the model to train itself by adjusting the weights and biases\n",
    "# neurons - this is the number of neurons that are present in this layer. Here we use 32 neurons (experimental value)\n",
    "# activation - we use ReLU \n",
    "# use_bias - we set this to true as we want to use a bias value \n",
    "# kernel_initializer - this is used to initialize the weights at the beginning of the training\n",
    "#                      There are many types of weight initializers like Xavier/Gorat (Uniform & Normal) or He (Uniform & Normal), etc. \n",
    "model.add(Dense(units=32,\n",
    "                activation=relu,\n",
    "                use_bias=True\n",
    "#                 kernel_initializer=HeNormal()\n",
    "               ))"
   ]
  },
  {
   "cell_type": "code",
   "execution_count": null,
   "metadata": {
    "execution": {
     "iopub.execute_input": "2022-06-21T17:17:55.920397Z",
     "iopub.status.busy": "2022-06-21T17:17:55.918243Z",
     "iopub.status.idle": "2022-06-21T17:17:55.932167Z",
     "shell.execute_reply": "2022-06-21T17:17:55.931377Z",
     "shell.execute_reply.started": "2022-06-21T17:17:55.920363Z"
    }
   },
   "outputs": [],
   "source": [
    "# Here we are using a Dropout layer\n",
    "# A dropout layer disables some randomly chosen neurons by making their input weights zero during training.\n",
    "# During testing, these connections are reconnected.\n",
    "# we use a dropout layer to prevent overfitting because sometimes the model gets too dependent on some particular neurons\n",
    "# and thus gets overfitted.\n",
    "model.add(Dropout(0.4))"
   ]
  },
  {
   "cell_type": "code",
   "execution_count": null,
   "metadata": {
    "execution": {
     "iopub.execute_input": "2022-06-21T17:17:55.938363Z",
     "iopub.status.busy": "2022-06-21T17:17:55.936027Z",
     "iopub.status.idle": "2022-06-21T17:17:55.955145Z",
     "shell.execute_reply": "2022-06-21T17:17:55.954477Z",
     "shell.execute_reply.started": "2022-06-21T17:17:55.938323Z"
    }
   },
   "outputs": [],
   "source": [
    "# adding another fully connected layer\n",
    "model.add(Dense(units=16,\n",
    "                activation=relu,\n",
    "                use_bias=True\n",
    "#                 kernel_initializer=HeUniform()\n",
    "               ))"
   ]
  },
  {
   "cell_type": "markdown",
   "metadata": {},
   "source": [
    "### Adding Output Layer"
   ]
  },
  {
   "cell_type": "code",
   "execution_count": null,
   "metadata": {
    "execution": {
     "iopub.execute_input": "2022-06-21T17:17:55.961023Z",
     "iopub.status.busy": "2022-06-21T17:17:55.958894Z",
     "iopub.status.idle": "2022-06-21T17:17:55.97843Z",
     "shell.execute_reply": "2022-06-21T17:17:55.977769Z",
     "shell.execute_reply.started": "2022-06-21T17:17:55.960988Z"
    }
   },
   "outputs": [],
   "source": [
    "# This is our output layer. \n",
    "# We use 4 neurons in our layer since ours is a multiclass classification and we have 4 categories to classify between.  \n",
    "model.add(Dense(units=4,\n",
    "                activation=softmax))"
   ]
  },
  {
   "cell_type": "markdown",
   "metadata": {},
   "source": [
    "### Printing Details of Model"
   ]
  },
  {
   "cell_type": "code",
   "execution_count": null,
   "metadata": {
    "execution": {
     "iopub.execute_input": "2022-06-21T17:17:55.984194Z",
     "iopub.status.busy": "2022-06-21T17:17:55.982214Z",
     "iopub.status.idle": "2022-06-21T17:17:55.994735Z",
     "shell.execute_reply": "2022-06-21T17:17:55.993819Z",
     "shell.execute_reply.started": "2022-06-21T17:17:55.984158Z"
    }
   },
   "outputs": [],
   "source": [
    "# printing the details of our model\n",
    "model.summary()"
   ]
  },
  {
   "cell_type": "markdown",
   "metadata": {},
   "source": [
    "### Compiling the Model"
   ]
  },
  {
   "cell_type": "code",
   "execution_count": null,
   "metadata": {
    "execution": {
     "iopub.execute_input": "2022-06-21T17:17:56.001374Z",
     "iopub.status.busy": "2022-06-21T17:17:55.999126Z",
     "iopub.status.idle": "2022-06-21T17:17:56.019398Z",
     "shell.execute_reply": "2022-06-21T17:17:56.0185Z",
     "shell.execute_reply.started": "2022-06-21T17:17:56.001337Z"
    }
   },
   "outputs": [],
   "source": [
    "# This is the compilation stage. \n",
    "# We use the compile()\n",
    "# optimizer - here we give an optimizer function which is currently one of the best optimizers as it uses both a momentum (weighted average) for noise reduction and \n",
    "#             also uses an adaptive learning rate\n",
    "# loss - we use the categorical_crossentropy to calculate our loss as we have multiclass classification\n",
    "# metrics - we use accuracy as a measure of performance of our model\n",
    "model.compile(optimizer=Adam(),loss='categorical_crossentropy',metrics=['accuracy'])"
   ]
  },
  {
   "cell_type": "markdown",
   "metadata": {},
   "source": [
    "### Early Stopping Function"
   ]
  },
  {
   "cell_type": "code",
   "execution_count": null,
   "metadata": {
    "execution": {
     "iopub.execute_input": "2022-06-21T17:17:56.025871Z",
     "iopub.status.busy": "2022-06-21T17:17:56.023601Z",
     "iopub.status.idle": "2022-06-21T17:17:56.03207Z",
     "shell.execute_reply": "2022-06-21T17:17:56.031225Z",
     "shell.execute_reply.started": "2022-06-21T17:17:56.025834Z"
    }
   },
   "outputs": [],
   "source": [
    "# Early stopping - this is a callback function which stops the training of the model based on the monitored parameter\n",
    "# monitor - parameter to be monitored\n",
    "# min_delta - Minimum change in the monitored quantity to qualify as an improvement\n",
    "# patience - Number of epochs with no improvement after which training will be stopped.\n",
    "# verbose - messages to be displayed\n",
    "# mode - One of {\"auto\", \"min\", \"max\"}. In min mode, training will stop when the quantity monitored has stopped decreasing; \n",
    "#        in \"max\" mode it will stop when the quantity monitored has stopped increasing; \n",
    "#        in \"auto\" mode, the direction is automatically inferred from the name of the monitored quantity.\n",
    "# baseline - Baseline value for the monitored quantity. Training will stop if the model doesn't show improvement over the baseline.\n",
    "# restore_best_weights - Whether to restore model weights from the epoch with the best value of the monitored quantity. \n",
    "#                        If False, the model weights obtained at the last step of training are used.\n",
    "\n",
    "# early_stopper = EarlyStopping(\n",
    "#     monitor='val_loss',\n",
    "#     min_delta=0,\n",
    "#     patience=0,\n",
    "#     verbose=0,\n",
    "#     mode='auto',\n",
    "#     baseline=None,\n",
    "#     restore_best_weights=False\n",
    "# )"
   ]
  },
  {
   "cell_type": "markdown",
   "metadata": {},
   "source": [
    "## Training out Model"
   ]
  },
  {
   "cell_type": "code",
   "execution_count": null,
   "metadata": {
    "execution": {
     "iopub.execute_input": "2022-06-21T17:17:56.039202Z",
     "iopub.status.busy": "2022-06-21T17:17:56.036711Z",
     "iopub.status.idle": "2022-06-21T18:34:41.168175Z",
     "shell.execute_reply": "2022-06-21T18:34:41.167293Z",
     "shell.execute_reply.started": "2022-06-21T17:17:56.039163Z"
    }
   },
   "outputs": [],
   "source": [
    "# we train the model using the fit()\n",
    "# x - the training data\n",
    "# vaidation_data - data against which the model accuracy will be calculated after training\n",
    "# epochs - number of times the model will train on the whole dataset to improve its performance. Here the value 60 is completely experimental.\n",
    "# verbose - determines verbosity. types of messages to display.\n",
    "\n",
    "model_history = model.fit(x=training_set,validation_data=validation_set,epochs=60,verbose=1)"
   ]
  },
  {
   "cell_type": "markdown",
   "metadata": {},
   "source": [
    "## Printing Evaluation Keys"
   ]
  },
  {
   "cell_type": "code",
   "execution_count": null,
   "metadata": {
    "execution": {
     "iopub.execute_input": "2022-06-21T18:34:41.171407Z",
     "iopub.status.busy": "2022-06-21T18:34:41.171102Z",
     "iopub.status.idle": "2022-06-21T18:34:41.179966Z",
     "shell.execute_reply": "2022-06-21T18:34:41.17908Z",
     "shell.execute_reply.started": "2022-06-21T18:34:41.171379Z"
    }
   },
   "outputs": [],
   "source": [
    "# this a callback from the model. the history gets returnes by the fit() used to train the model \n",
    "# the history of the model contains all details of its implementation such as the weights, keys, etc.\n",
    "# here we see the keys which evaluate the model\n",
    "model_history.history.keys()"
   ]
  },
  {
   "cell_type": "markdown",
   "metadata": {},
   "source": [
    "## Plotting Accuracy of the Model"
   ]
  },
  {
   "cell_type": "code",
   "execution_count": null,
   "metadata": {
    "execution": {
     "iopub.execute_input": "2022-06-21T18:34:41.182132Z",
     "iopub.status.busy": "2022-06-21T18:34:41.181635Z",
     "iopub.status.idle": "2022-06-21T18:34:41.378166Z",
     "shell.execute_reply": "2022-06-21T18:34:41.377436Z",
     "shell.execute_reply.started": "2022-06-21T18:34:41.182089Z"
    }
   },
   "outputs": [],
   "source": [
    "# comparing the training and testing accuracy\n",
    "plt.plot(model_history.history['accuracy'])\n",
    "plt.plot(model_history.history['val_accuracy'])\n",
    "plt.title('Accuracy of the model')\n",
    "plt.xlabel('Epochs')\n",
    "plt.ylabel('Accuracy')\n",
    "plt.legend(['train','test'],loc='upper left')\n",
    "plt.show()"
   ]
  },
  {
   "cell_type": "markdown",
   "metadata": {},
   "source": [
    "## Plotting Loss of the Model"
   ]
  },
  {
   "cell_type": "code",
   "execution_count": null,
   "metadata": {
    "execution": {
     "iopub.execute_input": "2022-06-21T18:34:41.382277Z",
     "iopub.status.busy": "2022-06-21T18:34:41.381861Z",
     "iopub.status.idle": "2022-06-21T18:34:41.573261Z",
     "shell.execute_reply": "2022-06-21T18:34:41.572478Z",
     "shell.execute_reply.started": "2022-06-21T18:34:41.382243Z"
    }
   },
   "outputs": [],
   "source": [
    "# comparing training and testing loss \n",
    "plt.plot(model_history.history['loss'])\n",
    "plt.plot(model_history.history['val_loss'])\n",
    "plt.title('Loss of the model')\n",
    "plt.xlabel('Epochs')\n",
    "plt.ylabel('Loss')\n",
    "plt.legend(['train','test'],loc='upper left')\n",
    "plt.show()"
   ]
  },
  {
   "cell_type": "markdown",
   "metadata": {},
   "source": [
    "## Indexing our Output Values"
   ]
  },
  {
   "cell_type": "code",
   "execution_count": null,
   "metadata": {
    "execution": {
     "iopub.execute_input": "2022-06-21T18:34:41.575373Z",
     "iopub.status.busy": "2022-06-21T18:34:41.574484Z",
     "iopub.status.idle": "2022-06-21T18:34:41.579695Z",
     "shell.execute_reply": "2022-06-21T18:34:41.578984Z",
     "shell.execute_reply.started": "2022-06-21T18:34:41.575336Z"
    }
   },
   "outputs": [],
   "source": [
    "index = ['glioma','meningioma','normal','adenoma']"
   ]
  },
  {
   "cell_type": "markdown",
   "metadata": {},
   "source": [
    "## Prediction 1 (Meningioma)"
   ]
  },
  {
   "cell_type": "code",
   "execution_count": null,
   "metadata": {
    "execution": {
     "iopub.execute_input": "2022-06-21T18:34:41.581517Z",
     "iopub.status.busy": "2022-06-21T18:34:41.580847Z",
     "iopub.status.idle": "2022-06-21T18:34:41.615185Z",
     "shell.execute_reply": "2022-06-21T18:34:41.61437Z",
     "shell.execute_reply.started": "2022-06-21T18:34:41.581478Z"
    }
   },
   "outputs": [],
   "source": [
    "test_image1 = load_img('../input/brain-tumor-test/brain_test_1_meningioma.jpg',target_size = (224,224))\n",
    "test_image1"
   ]
  },
  {
   "cell_type": "code",
   "execution_count": null,
   "metadata": {
    "execution": {
     "iopub.execute_input": "2022-06-21T18:34:41.619709Z",
     "iopub.status.busy": "2022-06-21T18:34:41.616217Z",
     "iopub.status.idle": "2022-06-21T18:34:41.813568Z",
     "shell.execute_reply": "2022-06-21T18:34:41.812801Z",
     "shell.execute_reply.started": "2022-06-21T18:34:41.61968Z"
    }
   },
   "outputs": [],
   "source": [
    "test_image1 = img_to_array(test_image1)\n",
    "test_image1 = np.expand_dims(test_image1,axis=0)\n",
    "result1 = np.argmax(model.predict(test_image1/255.0),axis=1)\n",
    "print(index[result1[0]])"
   ]
  },
  {
   "cell_type": "markdown",
   "metadata": {},
   "source": [
    "## Prediction 2 (Adenoma)"
   ]
  },
  {
   "cell_type": "code",
   "execution_count": null,
   "metadata": {
    "execution": {
     "iopub.execute_input": "2022-06-21T18:34:41.8155Z",
     "iopub.status.busy": "2022-06-21T18:34:41.815217Z",
     "iopub.status.idle": "2022-06-21T18:34:41.85414Z",
     "shell.execute_reply": "2022-06-21T18:34:41.85343Z",
     "shell.execute_reply.started": "2022-06-21T18:34:41.815474Z"
    }
   },
   "outputs": [],
   "source": [
    "test_image2 = load_img('../input/brain-tumor-test/brain_test_1_adenoma.jpg',target_size = (224,224))\n",
    "test_image2"
   ]
  },
  {
   "cell_type": "code",
   "execution_count": null,
   "metadata": {
    "execution": {
     "iopub.execute_input": "2022-06-21T18:34:41.856023Z",
     "iopub.status.busy": "2022-06-21T18:34:41.855408Z",
     "iopub.status.idle": "2022-06-21T18:34:41.900517Z",
     "shell.execute_reply": "2022-06-21T18:34:41.899804Z",
     "shell.execute_reply.started": "2022-06-21T18:34:41.855987Z"
    }
   },
   "outputs": [],
   "source": [
    "test_image2 = img_to_array(test_image2)\n",
    "test_image2 = np.expand_dims(test_image2,axis=0)\n",
    "result2 = np.argmax(model.predict(test_image2/255.0),axis=1)\n",
    "print(index[result2[0]])"
   ]
  },
  {
   "cell_type": "markdown",
   "metadata": {},
   "source": [
    "## As you see we have achieved an accuracy of approximately 92.5%\n",
    "### We have correct predictions on randomly chosen MRI images from the Internet"
   ]
  },
  {
   "cell_type": "markdown",
   "metadata": {
    "execution": {
     "iopub.execute_input": "2022-06-21T18:45:14.668537Z",
     "iopub.status.busy": "2022-06-21T18:45:14.668169Z",
     "iopub.status.idle": "2022-06-21T18:45:14.672421Z",
     "shell.execute_reply": "2022-06-21T18:45:14.671344Z",
     "shell.execute_reply.started": "2022-06-21T18:45:14.668506Z"
    }
   },
   "source": [
    "## Thank you for going through my notebook! \n",
    "# Please upvote if you liked it🙂🤞"
   ]
  }
 ],
 "metadata": {
  "kernelspec": {
   "display_name": "Python 3 (ipykernel)",
   "language": "python",
   "name": "python3"
  },
  "language_info": {
   "codemirror_mode": {
    "name": "ipython",
    "version": 3
   },
   "file_extension": ".py",
   "mimetype": "text/x-python",
   "name": "python",
   "nbconvert_exporter": "python",
   "pygments_lexer": "ipython3",
   "version": "3.9.7"
  }
 },
 "nbformat": 4,
 "nbformat_minor": 4
}
